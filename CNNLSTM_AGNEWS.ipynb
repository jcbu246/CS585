{
  "nbformat": 4,
  "nbformat_minor": 0,
  "metadata": {
    "colab": {
      "provenance": [],
      "machine_shape": "hm"
    },
    "kernelspec": {
      "name": "python3",
      "display_name": "Python 3"
    },
    "language_info": {
      "name": "python"
    },
    "accelerator": "GPU",
    "gpuClass": "standard"
  },
  "cells": [
    {
      "cell_type": "code",
      "source": [
        "import tensorflow as tf\n",
        "\n",
        "# Check if GPU is available and configured properly\n",
        "print(\"Num GPUs Available: \", len(tf.config.list_physical_devices('GPU')))\n",
        "print(tf.test.is_gpu_available())\n",
        "\n",
        "# Check the name of the GPU device\n",
        "print(tf.test.gpu_device_name())"
      ],
      "metadata": {
        "colab": {
          "base_uri": "https://localhost:8080/"
        },
        "id": "SATIYeuUFT18",
        "outputId": "4300bb7a-b3b5-4cca-d8de-07f5c775ebb7"
      },
      "execution_count": null,
      "outputs": [
        {
          "output_type": "stream",
          "name": "stderr",
          "text": [
            "WARNING:tensorflow:From <ipython-input-2-83a85b5502b0>:5: is_gpu_available (from tensorflow.python.framework.test_util) is deprecated and will be removed in a future version.\n",
            "Instructions for updating:\n",
            "Use `tf.config.list_physical_devices('GPU')` instead.\n"
          ]
        },
        {
          "output_type": "stream",
          "name": "stdout",
          "text": [
            "Num GPUs Available:  1\n",
            "True\n",
            "/device:GPU:0\n"
          ]
        }
      ]
    },
    {
      "cell_type": "code",
      "source": [
        "!pip install transformers"
      ],
      "metadata": {
        "id": "uT3fcR3WGcYG"
      },
      "execution_count": null,
      "outputs": []
    },
    {
      "cell_type": "code",
      "execution_count": null,
      "metadata": {
        "id": "4a79SofyUgTd"
      },
      "outputs": [],
      "source": [
        "import numpy as np\n",
        "import tensorflow as tf\n",
        "from transformers import DistilBertTokenizer, TFDistilBertForSequenceClassification\n",
        "from tensorflow.keras.preprocessing.text import Tokenizer\n",
        "from tensorflow.keras.preprocessing.sequence import pad_sequences\n",
        "from tensorflow.keras.layers import Embedding, Conv1D, MaxPooling1D, LSTM, Dense, Dropout\n",
        "from tensorflow.keras.models import Sequential\n",
        "from sklearn.model_selection import train_test_split\n",
        "from sklearn.metrics import accuracy_score, f1_score, precision_score, recall_score\n",
        "import pandas as pd"
      ]
    },
    {
      "cell_type": "code",
      "source": [
        "def load_ag_news_dataset():\n",
        "    train_url = \"https://raw.githubusercontent.com/mhjabreel/CharCnn_Keras/master/data/ag_news_csv/train.csv\"\n",
        "    test_url = \"https://raw.githubusercontent.com/mhjabreel/CharCnn_Keras/master/data/ag_news_csv/test.csv\"\n",
        "\n",
        "    train_df = pd.read_csv(train_url, header=None, names=[\"label\", \"title\", \"description\"])\n",
        "    test_df = pd.read_csv(test_url, header=None, names=[\"label\", \"title\", \"description\"])\n",
        "\n",
        "    train_df[\"text\"] = train_df[\"title\"] + \" \" + train_df[\"description\"]\n",
        "    test_df[\"text\"] = test_df[\"title\"] + \" \" + test_df[\"description\"]\n",
        "\n",
        "    train_df[\"label\"] = train_df[\"label\"] - 1\n",
        "    test_df[\"label\"] = test_df[\"label\"] - 1\n",
        "\n",
        "    return train_df, test_df"
      ],
      "metadata": {
        "id": "09D9HKN-XdDK"
      },
      "execution_count": null,
      "outputs": []
    },
    {
      "cell_type": "code",
      "source": [
        "def preprocess_data():\n",
        "    num_words = 10000\n",
        "    oov_token = '<OOV>'\n",
        "    max_length = 200\n",
        "    padding_type = 'post'\n",
        "    truncating_type = 'post'\n",
        "\n",
        "    train_df, test_df = load_ag_news_dataset()\n",
        "\n",
        "    train_texts, train_labels = train_df[\"text\"].tolist(), train_df[\"label\"].tolist()\n",
        "    test_texts, test_labels = test_df[\"text\"].tolist(), test_df[\"label\"].tolist()\n",
        "\n",
        "    tokenizer = Tokenizer(num_words=num_words, oov_token=oov_token)\n",
        "    tokenizer.fit_on_texts(train_texts)\n",
        "\n",
        "    train_sequences = tokenizer.texts_to_sequences(train_texts)\n",
        "    train_padded = pad_sequences(train_sequences, maxlen=max_length, padding=padding_type, truncating=truncating_type)\n",
        "    test_sequences = tokenizer.texts_to_sequences(test_texts)\n",
        "    test_padded = pad_sequences(test_sequences, maxlen=max_length, padding=padding_type, truncating=truncating_type)\n",
        "\n",
        "    train_labels = np.array(train_labels)\n",
        "    test_labels = np.array(test_labels)\n",
        "\n",
        "    return train_padded, train_labels, test_padded, test_labels"
      ],
      "metadata": {
        "id": "8DFRQZu4XjxU"
      },
      "execution_count": null,
      "outputs": []
    },
    {
      "cell_type": "code",
      "source": [
        "def create_cnn_lstm_model():\n",
        "    model = Sequential([\n",
        "        Embedding(10000, 128, input_length=200),\n",
        "        Conv1D(64, 5, activation='relu'),\n",
        "        MaxPooling1D(pool_size=4),\n",
        "        Dropout(0.2),  # Add dropout here instead of in LSTM\n",
        "        LSTM(64, dropout=0.0, recurrent_dropout=0.0),  # Remove dropout from LSTM\n",
        "        Dense(32, activation='relu'),\n",
        "        Dropout(0.5),\n",
        "        Dense(4, activation='softmax')\n",
        "    ])\n",
        "\n",
        "    model.compile(loss='sparse_categorical_crossentropy', optimizer='adam', metrics=['accuracy'])\n",
        "    return model"
      ],
      "metadata": {
        "id": "CpFldhOeXoHh"
      },
      "execution_count": null,
      "outputs": []
    },
    {
      "cell_type": "code",
      "source": [
        "from tensorflow.keras.layers import Embedding, Conv1D, MaxPooling1D, Flatten, Dense, Dropout\n",
        "\n",
        "def create_cnn_model():\n",
        "    model = Sequential([\n",
        "        Embedding(10000, 128, input_length=200),\n",
        "        Conv1D(64, 5, activation='relu'),\n",
        "        MaxPooling1D(pool_size=4),\n",
        "        Flatten(),\n",
        "        Dense(64, activation='relu'),\n",
        "        Dropout(0.5),\n",
        "        Dense(4, activation='softmax')\n",
        "    ])\n",
        "\n",
        "    model.compile(loss='sparse_categorical_crossentropy', optimizer='adam', metrics=['accuracy'])\n",
        "    return model"
      ],
      "metadata": {
        "id": "f9pmslghxLvo"
      },
      "execution_count": null,
      "outputs": []
    },
    {
      "cell_type": "code",
      "source": [
        "train_padded, train_labels, test_padded, test_labels = preprocess_data()\n",
        "\n",
        "X_train, X_val, y_train, y_val = train_test_split(train_padded, train_labels, test_size=0.1, random_state=42)"
      ],
      "metadata": {
        "id": "mcC5BE29yuOy"
      },
      "execution_count": null,
      "outputs": []
    },
    {
      "cell_type": "code",
      "source": [
        "# Train CNN-LSTM model\n",
        "cnn_lstm_model = create_cnn_lstm_model()\n",
        "cnn_lstm_model.fit(X_train, y_train, batch_size=32, epochs=5, validation_data=(X_val, y_val), verbose=1)"
      ],
      "metadata": {
        "id": "C6RthTRu5FSV"
      },
      "execution_count": null,
      "outputs": []
    },
    {
      "cell_type": "code",
      "source": [
        "# Train CNN model\n",
        "cnn_model = create_cnn_model()\n",
        "cnn_model.fit(X_train, y_train, batch_size=32, epochs=5, validation_data=(X_val, y_val), verbose=1)"
      ],
      "metadata": {
        "id": "bngQH2cUy3JF"
      },
      "execution_count": null,
      "outputs": []
    },
    {
      "cell_type": "code",
      "source": [
        "# Evaluate models on test set\n",
        "cnn_lstm_preds = cnn_lstm_model.predict(test_padded)\n",
        "cnn_preds = cnn_model.predict(X_val[..., np.newaxis])\n",
        "\n",
        "cnn_lstm_acc = accuracy_score(test_labels, np.argmax(cnn_lstm_preds, axis=1))\n",
        "cnn_acc = accuracy_score(y_val, np.argmax(cnn_preds, axis=1))\n",
        "\n",
        "cnn_lstm_f1 = f1_score(test_labels, np.argmax(cnn_lstm_preds, axis=1), average='macro')\n",
        "cnn_f1 = f1_score(y_val, np.argmax(cnn_preds, axis=1), average='macro')\n",
        "\n",
        "cnn_lstm_prec = precision_score(test_labels, np.argmax(cnn_lstm_preds, axis=1), average='macro')\n",
        "cnn_prec = precision_score(y_val, np.argmax(cnn_preds, axis=1), average='macro')\n",
        "\n",
        "cnn_lstm_rec = recall_score(test_labels, np.argmax(cnn_lstm_preds, axis=1), average='macro')\n",
        "cnn_rec = recall_score(y_val, np.argmax(cnn_preds, axis=1), average='macro')\n",
        "\n",
        "# Create a table to compare the models\n",
        "data = {'Model': ['CNN-LSTM', 'CNN'],\n",
        "        'Accuracy': [cnn_lstm_acc, cnn_acc],\n",
        "        'F1 Score': [cnn_lstm_f1, cnn_f1],\n",
        "        'Precision': [cnn_lstm_prec, cnn_prec],\n",
        "        'Recall': [cnn_lstm_rec, cnn_rec]}\n",
        "\n",
        "df = pd.DataFrame(data)\n",
        "print(df)\n",
        "\n"
      ],
      "metadata": {
        "colab": {
          "base_uri": "https://localhost:8080/"
        },
        "id": "0AYTRxWIxZSD",
        "outputId": "b0743383-948a-44db-9122-f6a342062ce9"
      },
      "execution_count": null,
      "outputs": [
        {
          "output_type": "stream",
          "name": "stdout",
          "text": [
            "238/238 [==============================] - 1s 2ms/step\n",
            "375/375 [==============================] - 1s 2ms/step\n",
            "      Model  Accuracy  F1 Score  Precision    Recall\n",
            "0  CNN-LSTM  0.910526  0.910131   0.910221  0.910526\n",
            "1       CNN  0.910250  0.910038   0.910107  0.910017\n"
          ]
        }
      ]
    }
  ]
}