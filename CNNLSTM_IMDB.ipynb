{
  "nbformat": 4,
  "nbformat_minor": 0,
  "metadata": {
    "colab": {
      "provenance": []
    },
    "kernelspec": {
      "name": "python3",
      "display_name": "Python 3"
    },
    "language_info": {
      "name": "python"
    }
  },
  "cells": [
    {
      "cell_type": "code",
      "execution_count": null,
      "metadata": {
        "id": "vSHltoGRlyA_"
      },
      "outputs": [],
      "source": [
        "import numpy as np\n",
        "import tensorflow as tf\n",
        "from tensorflow.keras.datasets import imdb\n",
        "from tensorflow.keras.preprocessing.sequence import pad_sequences\n",
        "from tensorflow.keras.layers import Embedding, Conv1D, MaxPooling1D, LSTM, Dense, Dropout\n",
        "from tensorflow.keras.models import Sequential\n",
        "from tensorflow.keras.regularizers import l2\n",
        "from sklearn.metrics import accuracy_score, f1_score, precision_score, recall_score\n",
        "\n"
      ]
    },
    {
      "cell_type": "code",
      "source": [
        "# Load the IMDB dataset\n",
        "max_words = 10000\n",
        "max_length = 500\n",
        "(X_train, y_train), (X_test, y_test) = imdb.load_data(num_words=max_words)"
      ],
      "metadata": {
        "id": "ryJJofMzsKyi"
      },
      "execution_count": null,
      "outputs": []
    },
    {
      "cell_type": "code",
      "source": [
        "# Pad sequences to a maximum length of 500 words\n",
        "X_train = pad_sequences(X_train, maxlen=max_length)\n",
        "X_test = pad_sequences(X_test, maxlen=max_length)\n"
      ],
      "metadata": {
        "id": "uwkDWZg0mO59"
      },
      "execution_count": null,
      "outputs": []
    },
    {
      "cell_type": "code",
      "source": [
        "# Define the CNN model\n",
        "def create_cnn_model():\n",
        "    model = Sequential()\n",
        "    model.add(Embedding(input_dim=max_words, output_dim=128, input_length=max_length))\n",
        "    model.add(Conv1D(filters=64, kernel_size=5, activation='relu'))\n",
        "    model.add(MaxPooling1D(pool_size=2))\n",
        "    model.add(Flatten())\n",
        "    model.add(Dense(units=1, activation='sigmoid'))\n",
        "\n",
        "    model.compile(optimizer='adam', loss='binary_crossentropy', metrics=['accuracy'])\n",
        "    \n",
        "    return model"
      ],
      "metadata": {
        "id": "cBJl7ogDm_5X"
      },
      "execution_count": null,
      "outputs": []
    },
    {
      "cell_type": "code",
      "source": [
        "# Define the CNN-LSTM model\n",
        "def create_cnn_lstm_model():\n",
        "    model = Sequential()\n",
        "    model.add(Embedding(input_dim=max_words, output_dim=128, input_length=max_length))\n",
        "    model.add(Conv1D(filters=128, kernel_size=5, activation='relu'))\n",
        "    model.add(MaxPooling1D(pool_size=2))\n",
        "    model.add(LSTM(units=128, dropout=0.2, recurrent_dropout=0.2, kernel_regularizer=l2(0.01)))\n",
        "    model.add(Dense(units=1, activation='sigmoid'))\n",
        "\n",
        "    model.compile(optimizer='adam', loss='binary_crossentropy', metrics=['accuracy'])\n",
        "    \n",
        "    return model"
      ],
      "metadata": {
        "id": "MJH255_fmSGo"
      },
      "execution_count": null,
      "outputs": []
    },
    {
      "cell_type": "code",
      "source": [
        "# Train the CNN model\n",
        "cnn_model = create_cnn_model()\n",
        "cnn_model.fit(X_train, y_train, batch_size=32, epochs=3, validation_data=(X_test, y_test), verbose=1)\n"
      ],
      "metadata": {
        "colab": {
          "base_uri": "https://localhost:8080/"
        },
        "id": "wwleA2svmVVe",
        "outputId": "dc93eb70-0331-4a42-e5ad-6f0512802347"
      },
      "execution_count": null,
      "outputs": [
        {
          "output_type": "stream",
          "name": "stdout",
          "text": [
            "Epoch 1/5\n",
            "782/782 [==============================] - 168s 213ms/step - loss: 0.3532 - accuracy: 0.8262 - val_loss: 0.2784 - val_accuracy: 0.8838\n",
            "Epoch 2/5\n",
            "782/782 [==============================] - 161s 206ms/step - loss: 0.1594 - accuracy: 0.9412 - val_loss: 0.3140 - val_accuracy: 0.8813\n",
            "Epoch 3/5\n",
            "782/782 [==============================] - 161s 206ms/step - loss: 0.0687 - accuracy: 0.9770 - val_loss: 0.3834 - val_accuracy: 0.8818\n",
            "Epoch 4/5\n",
            "782/782 [==============================] - 146s 187ms/step - loss: 0.0207 - accuracy: 0.9941 - val_loss: 0.5234 - val_accuracy: 0.8799\n",
            "Epoch 5/5\n",
            "782/782 [==============================] - 160s 205ms/step - loss: 0.0074 - accuracy: 0.9988 - val_loss: 0.6281 - val_accuracy: 0.8768\n"
          ]
        },
        {
          "output_type": "execute_result",
          "data": {
            "text/plain": [
              "<keras.callbacks.History at 0x7f8f0d208a60>"
            ]
          },
          "metadata": {},
          "execution_count": 25
        }
      ]
    },
    {
      "cell_type": "code",
      "source": [
        "# Train the CNN-LSTM model\n",
        "cnn_lstm_model = create_cnn_lstm_model()\n",
        "cnn_lstm_model.fit(X_train, y_train, batch_size=32, epochs=3, validation_data=(X_test, y_test), verbose=1)\n"
      ],
      "metadata": {
        "colab": {
          "base_uri": "https://localhost:8080/"
        },
        "id": "-OFZWfchnLdx",
        "outputId": "de146d59-83f0-4e76-f316-d35b7015e6ea"
      },
      "execution_count": null,
      "outputs": [
        {
          "output_type": "stream",
          "name": "stdout",
          "text": [
            "Epoch 1/3\n",
            "782/782 [==============================] - 950s 1s/step - loss: 0.4862 - accuracy: 0.8201 - val_loss: 0.3739 - val_accuracy: 0.8665\n",
            "Epoch 2/3\n",
            "782/782 [==============================] - 945s 1s/step - loss: 0.2568 - accuracy: 0.9065 - val_loss: 0.3086 - val_accuracy: 0.8829\n",
            "Epoch 3/3\n",
            "782/782 [==============================] - 948s 1s/step - loss: 0.1732 - accuracy: 0.9417 - val_loss: 0.3308 - val_accuracy: 0.8744\n"
          ]
        },
        {
          "output_type": "execute_result",
          "data": {
            "text/plain": [
              "<keras.callbacks.History at 0x7f8f0e483bb0>"
            ]
          },
          "metadata": {},
          "execution_count": 26
        }
      ]
    },
    {
      "cell_type": "code",
      "source": [
        "import pandas as pd\n",
        "# Evaluate the models on the test set\n",
        "cnn_preds = np.round(cnn_model.predict(X_test))\n",
        "cnn_lstm_preds = np.round(cnn_lstm_model.predict(X_test))\n",
        "\n",
        "cnn_acc = accuracy_score(y_test, cnn_preds)\n",
        "cnn_f1 = f1_score(y_test, cnn_preds)\n",
        "cnn_prec = precision_score(y_test, cnn_preds)\n",
        "cnn_rec = recall_score(y_test, cnn_preds)\n",
        "\n",
        "cnn_lstm_acc = accuracy_score(y_test, cnn_lstm_preds)\n",
        "cnn_lstm_f1 = f1_score(y_test, cnn_lstm_preds)\n",
        "cnn_lstm_prec = precision_score(y_test, cnn_lstm_preds)\n",
        "cnn_lstm_rec = recall_score(y_test, cnn_lstm_preds)\n",
        "\n",
        "# Create a table to compare the models\n",
        "data = {'Model': ['CNN', 'CNN-LSTM'],\n",
        "        'Accuracy': [cnn_acc, cnn_lstm_acc],\n",
        "        'F1 Score': [cnn_f1, cnn_lstm_f1],\n",
        "        'Precision': [cnn_prec, cnn_lstm_prec],\n",
        "        'Recall': [cnn_rec, cnn_lstm_rec]}\n",
        "\n",
        "df = pd.DataFrame(data)\n",
        "print(df)"
      ],
      "metadata": {
        "colab": {
          "base_uri": "https://localhost:8080/"
        },
        "id": "cMhLlDOrmc6b",
        "outputId": "cfdb9ed3-09b3-4d63-9004-885a0598450d"
      },
      "execution_count": null,
      "outputs": [
        {
          "output_type": "stream",
          "name": "stdout",
          "text": [
            "782/782 [==============================] - 28s 36ms/step\n",
            "782/782 [==============================] - 130s 166ms/step\n",
            "      Model  Accuracy  F1 Score  Precision   Recall\n",
            "0       CNN   0.87680  0.873688   0.896331  0.85216\n",
            "1  CNN-LSTM   0.87444  0.878234   0.852474  0.90560\n"
          ]
        }
      ]
    }
  ]
}